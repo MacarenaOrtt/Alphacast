{
 "cells": [
  {
   "cell_type": "code",
   "execution_count": null,
   "metadata": {},
   "outputs": [],
   "source": [
    "import requests \n",
    "import pandas as pd\n",
    "from requests.auth import HTTPBasicAuth \n",
    "import io\n",
    "import numpy as np"
   ]
  },
  {
   "cell_type": "code",
   "execution_count": null,
   "metadata": {},
   "outputs": [],
   "source": [
    "API_key = \" \" "
   ]
  },
  {
   "cell_type": "markdown",
   "metadata": {},
   "source": [
    "## 1) Download the original file from Alphacast"
   ]
  },
  {
   "cell_type": "code",
   "execution_count": null,
   "metadata": {},
   "outputs": [],
   "source": [
    "#Define the url, the id and the extension of the dataset\n",
    "url = 'https://www.alphacast.io/api/datasets/7337/data.csv?&api_key='\n",
    "\n",
    "df = pd.read_csv(url, sep = ',')\n",
    "\n",
    "df = df.set_index('Year')\n",
    "df"
   ]
  },
  {
   "cell_type": "markdown",
   "metadata": {},
   "source": [
    "## 2) Transformation: Hodrick Prescott filter"
   ]
  },
  {
   "cell_type": "code",
   "execution_count": null,
   "metadata": {},
   "outputs": [],
   "source": [
    "import statsmodels.api as sm\n",
    "import matplotlib.pyplot as plt"
   ]
  },
  {
   "cell_type": "code",
   "execution_count": null,
   "metadata": {},
   "outputs": [],
   "source": [
    "#Create a dataframe to save the transformed info\n",
    "df_hp = pd.DataFrame()\n",
    "\n",
    "#Apply the HP filter on each of the columns of the dataframe\n",
    "for col in df.columns[1:]:\n",
    "    target = df[col]\n",
    "    cycle, trend = sm.tsa.filters.hpfilter(target, 129600)\n",
    "    \n",
    "    #Store the results\n",
    "    df_hp[col] = df[col]\n",
    "    df_hp[col+ '- Cycle'] = cycle\n",
    "    df_hp[col+ '- Trend'] = trend\n",
    "    \n",
    "    #Plot the series\n",
    "    fig, ax = plt.subplots()\n",
    "    df_hp[[col, col+ '- Trend']]['1992-01-01':].plot(ax=ax, fontsize=7)\n",
    "    plt.show()"
   ]
  },
  {
   "cell_type": "code",
   "execution_count": null,
   "metadata": {},
   "outputs": [],
   "source": [
    "#Print the transformed dataframe\n",
    "pd.set_option('display.max_columns', None)\n",
    "df_hp"
   ]
  },
  {
   "cell_type": "code",
   "execution_count": null,
   "metadata": {},
   "outputs": [],
   "source": [
    "#Rename the index to upload the dataframe\n",
    "df_hp = df_hp.rename_axis('Date')"
   ]
  },
  {
   "cell_type": "markdown",
   "metadata": {},
   "source": [
    "## 3) Upload transformed data to Alphacast"
   ]
  },
  {
   "cell_type": "markdown",
   "metadata": {},
   "source": [
    "### 3.1) Create a repository"
   ]
  },
  {
   "cell_type": "code",
   "execution_count": null,
   "metadata": {},
   "outputs": [],
   "source": [
    "#Define the url for the request, and the parameters of the repo\n",
    "url = \"https://api.alphacast.io/repositories\"\n",
    "\n",
    "form = {\n",
    "   \"name\": \"Webinar Test Repo\",\n",
    "   \"description\": \"This is a test repository for the Webinar\",\n",
    "   \"privacy\": \"Private\", \n",
    "   \"slug\": \"web-test-repo\"\n",
    "}\n",
    "\n",
    "r = requests.post(url, data=form, auth=HTTPBasicAuth(API_key, \"\"))\n",
    "\n",
    "#To print the details of the new repo\n",
    "pd.DataFrame(eval(r.content.decode('utf-8')), index=[0])"
   ]
  },
  {
   "cell_type": "markdown",
   "metadata": {},
   "source": [
    "### 3.2) Create a dataset"
   ]
  },
  {
   "cell_type": "code",
   "execution_count": null,
   "metadata": {},
   "outputs": [],
   "source": [
    "#Define the url for the request, and the parameters of the dataset\n",
    "url = \"https://api.alphacast.io/datasets\"\n",
    "\n",
    "form = {\n",
    "   \"name\": \"USA Trade Balance - HP\",\n",
    "   \"repositoryId\": ,\n",
    "    \"description\": \"USA 1992-2020 trade balance series with Hodrick-Prescott filter applied\"\n",
    "}\n",
    "\n",
    "r = requests.post(url, auth=HTTPBasicAuth(API_key, \"\"), data=form)\n",
    "\n",
    "#Print the details of the new dataset\n",
    "pd.DataFrame(eval(r.content.decode('utf-8')), index=[0])"
   ]
  },
  {
   "cell_type": "markdown",
   "metadata": {},
   "source": [
    "### 3.3) Uploading data \n",
    "\n",
    "The API to upload data to a dataset requires two parameters:\n",
    "\n",
    "* **deleteMissingFromDB**: True / False. This parameter indicates, if True, that if the data that was in the dataset is not in the new data being uploaded, it should be deleted from the database.\n",
    "* **onConflictUpdateDB**: True / False. This parameter indicates, if True, that if there is a conflict between the data that is already in the database and the new ones, it keeps the new data and overwrites the previous ones."
   ]
  },
  {
   "cell_type": "code",
   "execution_count": null,
   "metadata": {},
   "outputs": [],
   "source": [
    "#Define the url for the request, and the parameters for uploading the data\n",
    "url_base = 'https://api.alphacast.io/datasets/'\n",
    "dataset_id = ''\n",
    "additional_params = '/data?deleteMissingFromDB=True&onConflictUpdateDB=True'\n",
    "\n",
    "url = url_base + dataset_id + additional_params\n",
    "\n",
    "files = {'data': df_hp.to_csv()}\n",
    "\n",
    "r = requests.put(url, files=files, auth=HTTPBasicAuth(API_key, \"\"))\n",
    "\n",
    "pd.DataFrame(eval(r.content.decode('utf-8')), index=[0])"
   ]
  }
 ],
 "metadata": {
  "kernelspec": {
   "display_name": "Python 3",
   "language": "python",
   "name": "python3"
  },
  "language_info": {
   "codemirror_mode": {
    "name": "ipython",
    "version": 3
   },
   "file_extension": ".py",
   "mimetype": "text/x-python",
   "name": "python",
   "nbconvert_exporter": "python",
   "pygments_lexer": "ipython3",
   "version": "3.8.5"
  }
 },
 "nbformat": 4,
 "nbformat_minor": 4
}
